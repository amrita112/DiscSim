{
 "cells": [
  {
   "cell_type": "markdown",
   "id": "fdecd622-5846-4728-b07a-f67c387a113e",
   "metadata": {
    "jp-MarkdownHeadingCollapsed": true,
    "tags": []
   },
   "source": [
    "# Imports"
   ]
  },
  {
   "cell_type": "code",
   "execution_count": 71,
   "id": "eb95e64f",
   "metadata": {
    "ExecuteTime": {
     "end_time": "2023-06-01T14:53:35.685428Z",
     "start_time": "2023-06-01T14:53:30.300951Z"
    },
    "init_cell": true
   },
   "outputs": [
    {
     "name": "stdout",
     "output_type": "stream",
     "text": [
      "The autoreload extension is already loaded. To reload it, use:\n",
      "  %reload_ext autoreload\n"
     ]
    }
   ],
   "source": [
    "# General modules\n",
    "import matplotlib.pyplot as plt\n",
    "import numpy as np\n",
    "import pandas as pd\n",
    "from os.path import sep\n",
    "from tqdm import tqdm\n",
    "\n",
    "# Local modules\n",
    "import disc_score\n",
    "\n",
    "# Enable re-load of local modules every time they are called\n",
    "%load_ext autoreload\n",
    "%autoreload 2\n",
    "%aimport numpy \n",
    "%aimport pandas"
   ]
  },
  {
   "cell_type": "markdown",
   "id": "d328a660-24ec-46d0-ae58-cdcd04659929",
   "metadata": {
    "jp-MarkdownHeadingCollapsed": true,
    "tags": []
   },
   "source": [
    "# Load data"
   ]
  },
  {
   "cell_type": "code",
   "execution_count": 9,
   "id": "8a6c79e8",
   "metadata": {
    "ExecuteTime": {
     "end_time": "2023-06-01T14:54:42.805356Z",
     "start_time": "2023-06-01T14:54:41.725427Z"
    },
    "init_cell": true
   },
   "outputs": [
    {
     "name": "stdout",
     "output_type": "stream",
     "text": [
      "The following variables were found in this dataset:\n",
      "    child_id\n",
      "    stunting_aww\n",
      "    wasting_aww\n",
      "    underweight_aww\n",
      "    gender_cat_ss\n",
      "    weight_ss\n",
      "    height_ss\n",
      "    age_in_months_ss\n",
      "    haz06_ss\n",
      "    waz06_ss\n",
      "    whz06_ss\n",
      "    bmiz06_ss\n",
      "    stunting_ss\n",
      "    wasting_ss\n",
      "    underweight_ss\n",
      "    height_aww\n",
      "    weight_aww\n",
      "    measurement_date_aww\n"
     ]
    }
   ],
   "source": [
    "home_folder = 'Documents{0}CEGIS{0}DiscSim'.format(sep)\n",
    "filename = '{0}{1}sample ecd child data ADQ.xlsx'.format(home_folder, sep)\n",
    "\n",
    "data = pd.read_excel(filename) # Read data from the excel sheet\n",
    "variables = data.columns       # Each column is a single variable measured, this gives the names of columns\n",
    "n_variables = len(variables)\n",
    "\n",
    "print('The following variables were found in this dataset:')\n",
    "for v in variables:\n",
    "    print('    {0}'.format(v))"
   ]
  },
  {
   "cell_type": "code",
   "execution_count": 10,
   "id": "fb054674",
   "metadata": {
    "ExecuteTime": {
     "end_time": "2023-06-01T14:54:47.334695Z",
     "start_time": "2023-06-01T14:54:47.309867Z"
    },
    "init_cell": true
   },
   "outputs": [
    {
     "data": {
      "text/plain": [
       "0      2998424\n",
       "1      3250679\n",
       "2      3297596\n",
       "3      3300262\n",
       "4      3300591\n",
       "        ...   \n",
       "480    6469093\n",
       "481    6469166\n",
       "482    6470304\n",
       "483    6472322\n",
       "484    6474014\n",
       "Name: child_id, Length: 485, dtype: int64"
      ]
     },
     "execution_count": 10,
     "metadata": {},
     "output_type": "execute_result"
    }
   ],
   "source": [
    "# To access any of the variables, use data.<variable name> -- for example:\n",
    "data.child_id"
   ]
  },
  {
   "cell_type": "code",
   "execution_count": 11,
   "id": "cd2fb40d",
   "metadata": {
    "ExecuteTime": {
     "end_time": "2023-06-01T14:54:48.112253Z",
     "start_time": "2023-06-01T14:54:48.100960Z"
    },
    "init_cell": true
   },
   "outputs": [
    {
     "data": {
      "text/plain": [
       "4124209"
      ]
     },
     "execution_count": 11,
     "metadata": {},
     "output_type": "execute_result"
    }
   ],
   "source": [
    "# To access a particular sample, use data.<variable name>[sample number] -- for example:\n",
    "data.child_id[53]"
   ]
  },
  {
   "cell_type": "markdown",
   "id": "d7a93cc6-d42e-4131-98aa-ecc07859d72b",
   "metadata": {
    "jp-MarkdownHeadingCollapsed": true,
    "tags": []
   },
   "source": [
    "# Identify measured variables"
   ]
  },
  {
   "cell_type": "code",
   "execution_count": 12,
   "id": "841b8531",
   "metadata": {
    "ExecuteTime": {
     "end_time": "2023-06-01T14:58:42.703482Z",
     "start_time": "2023-06-01T14:58:42.682115Z"
    },
    "init_cell": true
   },
   "outputs": [
    {
     "name": "stdout",
     "output_type": "stream",
     "text": [
      "Subordinate variables: ['stunting_aww', 'wasting_aww', 'underweight_aww', 'height_aww', 'weight_aww', 'measurement_date_aww']\n",
      "Supervisor_variables: ['gender_cat_ss', 'weight_ss', 'height_ss', 'age_in_months_ss', 'haz06_ss', 'waz06_ss', 'whz06_ss', 'bmiz06_ss', 'stunting_ss', 'wasting_ss', 'underweight_ss']\n"
     ]
    }
   ],
   "source": [
    "supervisor_variables = []\n",
    "subordinate_variables = []\n",
    "\n",
    "for v in variables: # Loop over variables (in each loop iteration, 'v' will take on the value of the next variable)\n",
    "    \n",
    "    variable_type = v[v.rindex('_') + 1:] # Returns the characters in v after the last occurence of '_'\n",
    "    \n",
    "    if variable_type == 'aww':\n",
    "        subordinate_variables.append(v)\n",
    "    else:\n",
    "        if variable_type == 'ss':\n",
    "            supervisor_variables.append(v)\n",
    "            \n",
    "print('Subordinate variables: {0}'.format(subordinate_variables))\n",
    "print('Supervisor_variables: {0}'.format(supervisor_variables))"
   ]
  },
  {
   "cell_type": "markdown",
   "id": "7afaef58-8abd-4609-a75f-ab190fa2160a",
   "metadata": {
    "jp-MarkdownHeadingCollapsed": true,
    "tags": []
   },
   "source": [
    "## Find variables measured by both subordinate and supervisor"
   ]
  },
  {
   "cell_type": "code",
   "execution_count": 13,
   "id": "ab6c54f2",
   "metadata": {
    "ExecuteTime": {
     "end_time": "2023-06-01T15:04:17.471281Z",
     "start_time": "2023-06-01T15:04:17.460020Z"
    }
   },
   "outputs": [
    {
     "name": "stdout",
     "output_type": "stream",
     "text": [
      "The following variables are measured by both subordinate and supervisor:\n",
      "    stunting\n",
      "    wasting\n",
      "    underweight\n",
      "    height\n",
      "    weight\n",
      "\n",
      "The following variables are measured only by subordinate:\n",
      "    measurement_date\n",
      "\n",
      "The following variables are measured only by supervisor:\n",
      "    gender_cat\n",
      "    age_in_months\n",
      "    haz06\n",
      "    waz06\n",
      "    whz06\n",
      "    bmiz06\n"
     ]
    }
   ],
   "source": [
    "subordinate_only = []\n",
    "supervisor_only = []\n",
    "subordinate_and_supervisor = []\n",
    "\n",
    "supervisor_variable_names = [v[:v.rindex('_')] for v in supervisor_variables] # Characters in v before the last occurence of '_'\n",
    "\n",
    "for v in subordinate_variables:\n",
    "    \n",
    "    variable_name = v[:v.rindex('_')] # Characters in v before the last occurence of '_'\n",
    "    \n",
    "    if variable_name in supervisor_variable_names:\n",
    "        subordinate_and_supervisor.append(variable_name)\n",
    "        \n",
    "    else:\n",
    "        subordinate_only.append(variable_name)\n",
    "        \n",
    "supervisor_only = [v for v in supervisor_variable_names if np.logical_and(np.logical_not(v in subordinate_only),\n",
    "                                                                         np.logical_not(v in subordinate_and_supervisor))]\n",
    "\n",
    "print('The following variables are measured by both subordinate and supervisor:')\n",
    "for v in subordinate_and_supervisor:\n",
    "    print('    {0}'.format(v))\n",
    "print('')\n",
    "\n",
    "print('The following variables are measured only by subordinate:')\n",
    "for v in subordinate_only:\n",
    "    print('    {0}'.format(v))\n",
    "print('')\n",
    "    \n",
    "print('The following variables are measured only by supervisor:')\n",
    "for v in supervisor_only:\n",
    "    print('    {0}'.format(v))"
   ]
  },
  {
   "cell_type": "markdown",
   "id": "e35226f6-eaa5-4724-bd3b-248f20dd27ac",
   "metadata": {
    "tags": []
   },
   "source": [
    "# Discrepancy score calculation"
   ]
  },
  {
   "cell_type": "markdown",
   "id": "f4bd13c8-c717-456b-af33-c8653a2c0de3",
   "metadata": {
    "jp-MarkdownHeadingCollapsed": true,
    "tags": []
   },
   "source": [
    "## Discrete variables"
   ]
  },
  {
   "cell_type": "code",
   "execution_count": 49,
   "id": "a7843856",
   "metadata": {
    "ExecuteTime": {
     "end_time": "2023-06-01T15:08:02.063572Z",
     "start_time": "2023-06-01T15:08:02.001120Z"
    }
   },
   "outputs": [
    {
     "name": "stdout",
     "output_type": "stream",
     "text": [
      "Stunting may be one of the following: ['Normal' 'moderate stunting' 'severe stunting']\n",
      "27.42% of entries are not matching between stunting reported by subordinate and supervisor.\n",
      "\n",
      "Wasting may be one of the following: ['Normal' 'Obese' 'Overweight' 'moderate wasting' 'severe wasting']\n",
      "23.92% of entries are not matching between wasting reported by subordinate and supervisor.\n",
      "\n",
      "Underweight may be one of the following: ['Normal' 'moderately underweight' 'severely underweight']\n",
      "21.44% of entries are not matching between underweight reported by subordinate and supervisor.\n",
      "\n"
     ]
    }
   ],
   "source": [
    "# Stunting is a ternary variable, with three possible values. \n",
    "print('Stunting may be one of the following: {0}'.format(np.unique(data.stunting_aww)))\n",
    "      \n",
    "# We want to know how often the subordinate and supervisor reported different stunting values, so a good method for discrepancy score calculation would be percentage of non-matching entries.\n",
    "score = disc_score.discrepancy_score(data.stunting_aww, data.stunting_ss, \"percent_non_match\")\n",
    "print('{0}% of entries are not matching between stunting reported by subordinate and supervisor.'.format(np.round(score, 2)))    \n",
    "print('')\n",
    "\n",
    "# Similarly, wasting is a variable, with five possible values:\n",
    "print('Wasting may be one of the following: {0}'.format(np.unique(data.wasting_aww)))\n",
    "\n",
    "# Again we want to know how often it was not matching:\n",
    "score = disc_score.discrepancy_score(data.wasting_aww, data.wasting_ss, \"percent_non_match\")\n",
    "print('{0}% of entries are not matching between wasting reported by subordinate and supervisor.'.format(np.round(score, 2)))    \n",
    "print('')\n",
    "\n",
    "# Similarly for underweight:\n",
    "print('Underweight may be one of the following: {0}'.format(np.unique(data.underweight_aww)))\n",
    "\n",
    "# Again we want to know how often it was not matching:\n",
    "score = disc_score.discrepancy_score(data.underweight_aww, data.underweight_ss, \"percent_non_match\")\n",
    "print('{0}% of entries are not matching between underweight reported by subordinate and supervisor.'.format(np.round(score, 2)))    \n",
    "print('')\n"
   ]
  },
  {
   "cell_type": "markdown",
   "id": "3b1c6432-bbe5-4cc1-9e76-fde640a79593",
   "metadata": {
    "jp-MarkdownHeadingCollapsed": true,
    "tags": []
   },
   "source": [
    "## Continous variables"
   ]
  },
  {
   "cell_type": "code",
   "execution_count": 50,
   "id": "0fcb4254-7430-45d2-a1a1-02a48099f0e2",
   "metadata": {},
   "outputs": [
    {
     "name": "stdout",
     "output_type": "stream",
     "text": [
      "Absolute difference\n",
      "Height reported by subordinate and supervisor differ by 3.84 units on average.\n",
      "Weight reported by subordinate and supervisor differ by 0.9 units on average.\n",
      "\n",
      "Simple difference\n",
      "Height reported by subordinate and supervisor differ by -0.52 units on average.\n",
      "Weight reported by subordinate and supervisor are differ by 0.06 units on average.\n",
      "\n",
      "Absolute percent difference\n",
      "Height reported by subordinate and supervisor differ by 4.66% of supervisor weight on average.\n",
      "Weight reported by subordinate and supervisor differ by 9.02% of supervisor weight on average.\n",
      "\n",
      "Simple percent difference\n",
      "Height reported by subordinate and supervisor differ by -0.35% of supervisor weight on average.\n",
      "Weight reported by subordinate and supervisor are differ by 1.45% of supervisor height on average.\n",
      "\n"
     ]
    }
   ],
   "source": [
    "# For continuous variables like height and weight, we can use a absolute difference, as we do not expect exact matches. \n",
    "print('Absolute difference')\n",
    "score = disc_score.discrepancy_score(data.height_aww, data.height_ss, \"absolute_difference\")\n",
    "print('Height reported by subordinate and supervisor differ by {0} units on average.'.format(np.round(score, 2)))\n",
    "score = disc_score.discrepancy_score(data.weight_aww, data.weight_ss, \"absolute_difference\")\n",
    "print('Weight reported by subordinate and supervisor differ by {0} units on average.'.format(np.round(score, 2)))\n",
    "print('')\n",
    "\n",
    "# We can also use a simple difference, in which the sign of the difference matters. These values will be smaller on average, because some of them will be negative and some positive, and they'll cancel each other out.\n",
    "print('Simple difference')\n",
    "score = disc_score.discrepancy_score(data.height_aww, data.height_ss, \"simple_difference\")\n",
    "print('Height reported by subordinate and supervisor differ by {0} units on average.'.format(np.round(score, 2)))\n",
    "score = disc_score.discrepancy_score(data.weight_aww, data.weight_ss, \"simple_difference\")\n",
    "print('Weight reported by subordinate and supervisor are differ by {0} units on average.'.format(np.round(score, 2)))\n",
    "print('')\n",
    "\n",
    "# It may make more sense to calculate difference as a percentage of the supervisor variable:\n",
    "print('Absolute percent difference')\n",
    "score = disc_score.discrepancy_score(data.height_aww, data.height_ss, \"absolute_percent_difference\")\n",
    "print('Height reported by subordinate and supervisor differ by {0}% of supervisor weight on average.'.format(np.round(score, 2)))\n",
    "score = disc_score.discrepancy_score(data.weight_aww, data.weight_ss, \"absolute_percent_difference\")\n",
    "print('Weight reported by subordinate and supervisor differ by {0}% of supervisor weight on average.'.format(np.round(score, 2)))\n",
    "print('')\n",
    "\n",
    "print('Simple percent difference')\n",
    "score = disc_score.discrepancy_score(data.height_aww, data.height_ss, \"percent_difference\")\n",
    "print('Height reported by subordinate and supervisor differ by {0}% of supervisor weight on average.'.format(np.round(score, 2)))\n",
    "score = disc_score.discrepancy_score(data.weight_aww, data.weight_ss, \"percent_difference\")\n",
    "print('Weight reported by subordinate and supervisor are differ by {0}% of supervisor height on average.'.format(np.round(score, 2)))\n",
    "print('')"
   ]
  },
  {
   "cell_type": "markdown",
   "id": "690bfb10-1f0b-4d21-99ca-987e20f6b390",
   "metadata": {
    "jp-MarkdownHeadingCollapsed": true,
    "tags": []
   },
   "source": [
    "## Sanity checks"
   ]
  },
  {
   "cell_type": "code",
   "execution_count": 51,
   "id": "0c0b669b-81f5-4b9b-a0d0-fbedce5da837",
   "metadata": {},
   "outputs": [],
   "source": [
    "# The method discrepancy_score will throw errors if there are issues with the variables entered for comparison. "
   ]
  },
  {
   "cell_type": "markdown",
   "id": "eb529220-fcdb-4cde-902a-c130458fd805",
   "metadata": {
    "jp-MarkdownHeadingCollapsed": true,
    "tags": []
   },
   "source": [
    "### Variable length"
   ]
  },
  {
   "cell_type": "code",
   "execution_count": 52,
   "id": "a10d6cf6-db25-4d5f-83db-76bbbef0eec8",
   "metadata": {},
   "outputs": [
    {
     "ename": "ValueError",
     "evalue": "The two variables must be the same length.",
     "output_type": "error",
     "traceback": [
      "\u001b[0;31m---------------------------------------------------------------------------\u001b[0m",
      "\u001b[0;31mValueError\u001b[0m                                Traceback (most recent call last)",
      "Cell \u001b[0;32mIn[52], line 4\u001b[0m\n\u001b[1;32m      2\u001b[0m x \u001b[38;5;241m=\u001b[39m [\u001b[38;5;241m1\u001b[39m, \u001b[38;5;241m2\u001b[39m, \u001b[38;5;241m3\u001b[39m, \u001b[38;5;241m4\u001b[39m, \u001b[38;5;241m5\u001b[39m]\n\u001b[1;32m      3\u001b[0m y \u001b[38;5;241m=\u001b[39m [\u001b[38;5;241m1\u001b[39m, \u001b[38;5;241m2\u001b[39m, \u001b[38;5;241m3\u001b[39m, \u001b[38;5;241m4\u001b[39m, \u001b[38;5;241m5\u001b[39m, \u001b[38;5;241m6\u001b[39m]\n\u001b[0;32m----> 4\u001b[0m disc_score\u001b[38;5;241m.\u001b[39mdiscrepancy_score(x, y, \u001b[38;5;124m'\u001b[39m\u001b[38;5;124msimple_difference\u001b[39m\u001b[38;5;124m'\u001b[39m)\n",
      "File \u001b[0;32m~/Documents/CEGIS/DiscSim/DiscSim/disc_score.py:9\u001b[0m, in \u001b[0;36mdiscrepancy_score\u001b[0;34m(subordinate_variable, supervisor_variable, method)\u001b[0m\n\u001b[1;32m      7\u001b[0m \u001b[38;5;66;03m# Step 1: check that the two variables are the same length\u001b[39;00m\n\u001b[1;32m      8\u001b[0m \u001b[38;5;28;01mif\u001b[39;00m \u001b[38;5;28mlen\u001b[39m(subordinate_variable) \u001b[38;5;241m!=\u001b[39m \u001b[38;5;28mlen\u001b[39m(supervisor_variable):\n\u001b[0;32m----> 9\u001b[0m     \u001b[38;5;28;01mraise\u001b[39;00m \u001b[38;5;167;01mValueError\u001b[39;00m(\u001b[38;5;124m\"\u001b[39m\u001b[38;5;124mThe two variables must be the same length.\u001b[39m\u001b[38;5;124m\"\u001b[39m)\n\u001b[1;32m     11\u001b[0m \u001b[38;5;66;03m# Step 2: check that the two variables are the same type\u001b[39;00m\n\u001b[1;32m     12\u001b[0m \u001b[38;5;28;01mif\u001b[39;00m \u001b[38;5;28mtype\u001b[39m(subordinate_variable) \u001b[38;5;241m!=\u001b[39m \u001b[38;5;28mtype\u001b[39m(supervisor_variable):\n",
      "\u001b[0;31mValueError\u001b[0m: The two variables must be the same length."
     ]
    }
   ],
   "source": [
    "# If the two variables have different length:\n",
    "x = [1, 2, 3, 4, 5]\n",
    "y = [1, 2, 3, 4, 5, 6]\n",
    "disc_score.discrepancy_score(x, y, 'simple_difference')"
   ]
  },
  {
   "cell_type": "markdown",
   "id": "80aa0afd-4f00-4acd-9973-546662939a98",
   "metadata": {
    "jp-MarkdownHeadingCollapsed": true,
    "tags": []
   },
   "source": [
    "### Data type"
   ]
  },
  {
   "cell_type": "code",
   "execution_count": 55,
   "id": "231a1766-7523-4b25-8b73-ea3f8719c845",
   "metadata": {},
   "outputs": [
    {
     "ename": "TypeError",
     "evalue": "The two variables must be the same type.",
     "output_type": "error",
     "traceback": [
      "\u001b[0;31m---------------------------------------------------------------------------\u001b[0m",
      "\u001b[0;31mTypeError\u001b[0m                                 Traceback (most recent call last)",
      "Cell \u001b[0;32mIn[55], line 2\u001b[0m\n\u001b[1;32m      1\u001b[0m \u001b[38;5;66;03m# If the two variables are of different types:\u001b[39;00m\n\u001b[0;32m----> 2\u001b[0m disc_score\u001b[38;5;241m.\u001b[39mdiscrepancy_score(data\u001b[38;5;241m.\u001b[39mstunting_aww, data\u001b[38;5;241m.\u001b[39mheight_ss, \u001b[38;5;124m'\u001b[39m\u001b[38;5;124msimple_difference\u001b[39m\u001b[38;5;124m'\u001b[39m)\n",
      "File \u001b[0;32m~/Documents/CEGIS/DiscSim/DiscSim/disc_score.py:13\u001b[0m, in \u001b[0;36mdiscrepancy_score\u001b[0;34m(subordinate_variable, supervisor_variable, method)\u001b[0m\n\u001b[1;32m     11\u001b[0m \u001b[38;5;66;03m# Step 2: check that the two variables are the same type\u001b[39;00m\n\u001b[1;32m     12\u001b[0m \u001b[38;5;28;01mif\u001b[39;00m \u001b[38;5;28mtype\u001b[39m(subordinate_variable) \u001b[38;5;241m!=\u001b[39m \u001b[38;5;28mtype\u001b[39m(supervisor_variable):\n\u001b[0;32m---> 13\u001b[0m     \u001b[38;5;28;01mraise\u001b[39;00m \u001b[38;5;167;01mTypeError\u001b[39;00m(\u001b[38;5;124m\"\u001b[39m\u001b[38;5;124mThe two variables must be the same type.\u001b[39m\u001b[38;5;124m\"\u001b[39m)\n\u001b[1;32m     15\u001b[0m \u001b[38;5;66;03m# Step 3: calculate the discrepancy score\u001b[39;00m\n\u001b[1;32m     16\u001b[0m \u001b[38;5;28;01mif\u001b[39;00m method \u001b[38;5;241m==\u001b[39m \u001b[38;5;124m\"\u001b[39m\u001b[38;5;124mpercent_difference\u001b[39m\u001b[38;5;124m\"\u001b[39m:\n",
      "\u001b[0;31mTypeError\u001b[0m: The two variables must be the same type."
     ]
    }
   ],
   "source": [
    "# If the two variables are of different types:\n",
    "disc_score.discrepancy_score(data.stunting_aww, data.height_ss, 'simple_difference')"
   ]
  },
  {
   "cell_type": "markdown",
   "id": "aaf01305-614b-4d8b-b9a4-07d49b4108ef",
   "metadata": {},
   "source": [
    "# Measure confidence in the discrepancy score"
   ]
  },
  {
   "cell_type": "markdown",
   "id": "97c3baa6-5084-4423-9255-2c75f3a7f189",
   "metadata": {},
   "source": [
    "For the rest of this analysis, we'll focus on wasting and use the percentage of non-matching entries as our discrepancy score calculation method."
   ]
  },
  {
   "cell_type": "markdown",
   "id": "e0a00220-1178-4e94-ae75-9648df0e8123",
   "metadata": {},
   "source": [
    "## Generate a distribution of discrepancy scores using bootstrapping"
   ]
  },
  {
   "cell_type": "code",
   "execution_count": 128,
   "id": "a5d60cc9-3c47-45a6-a986-7426ef8a120e",
   "metadata": {},
   "outputs": [
    {
     "name": "stderr",
     "output_type": "stream",
     "text": [
      "100%|██████████████████████████████████████| 10000/10000 [00:28<00:00, 356.50it/s]\n"
     ]
    },
    {
     "data": {
      "image/png": "[encoded data removed]",
      "text/plain": [
       "<Figure size 432x288 with 1 Axes>"
      ]
     },
     "metadata": {
      "needs_background": "light"
     },
     "output_type": "display_data"
    }
   ],
   "source": [
    "discrepancy_scores = disc_score.bootstrap_distribution(data.wasting_aww, data.wasting_ss, \"percent_non_match\", n_iterations = 10000)"
   ]
  },
  {
   "cell_type": "code",
   "execution_count": null,
   "id": "3db16981-70ff-40b9-9d48-8434e0cab50a",
   "metadata": {},
   "outputs": [],
   "source": []
  }
 ],
 "metadata": {
  "celltoolbar": "Initialization Cell",
  "kernelspec": {
   "display_name": "discscsim",
   "language": "python",
   "name": "discscsim"
  },
  "language_info": {
   "codemirror_mode": {
    "name": "ipython",
    "version": 3
   },
   "file_extension": ".py",
   "mimetype": "text/x-python",
   "name": "python",
   "nbconvert_exporter": "python",
   "pygments_lexer": "ipython3",
   "version": "3.11.3"
  },
  "toc": {
   "nav_menu": {},
   "number_sections": true,
   "sideBar": true,
   "skip_h1_title": false,
   "toc_cell": false,
   "toc_position": {},
   "toc_section_display": "block",
   "toc_window_display": false
  }
 },
 "nbformat": 4,
 "nbformat_minor": 5
}
